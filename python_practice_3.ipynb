{
  "cells": [
    {
      "cell_type": "markdown",
      "metadata": {
        "id": "qDEi2Pi-4yUC"
      },
      "source": [
        "# I. Оператори порівняння та логічні оператори. Умови."
      ]
    },
    {
      "cell_type": "markdown",
      "metadata": {
        "id": "3v8D4Dkm43Ua"
      },
      "source": [
        "1. Створіть цілочисленну змінну зі своїм щасливим або улюбленим числом. Напишіть код, який би автоматизовував наступну задачу.\n",
        "\n",
        "Якщо число парне, помножте його на 2 та виведіть результат на екран.\n",
        "\n",
        "Але якщо число непарне, помножте його на 3 та додайте 1 і виведіть на екран."
      ]
    },
    {
      "cell_type": "code",
      "execution_count": null,
      "metadata": {
        "id": "dlVjc-Nu4bmb"
      },
      "outputs": [
        {
          "name": "stdout",
          "output_type": "stream",
          "text": [
            "4\n"
          ]
        }
      ],
      "source": [
        "lucky_num = 2\n",
        "\n",
        "if lucky_num  % 2 == 0:\n",
        "    print(lucky_num  * 2)\n",
        "\n",
        "else:\n",
        "    print(lucky_num  * 3 + 1)"
      ]
    },
    {
      "cell_type": "markdown",
      "metadata": {
        "id": "H669P0QK5BI_"
      },
      "source": [
        "2. Створіть змінну, що посилається на список. Якщо список пустий, додайте будь-який елемент у кінець списку. Якщо ж ні, то нічого не робіть."
      ]
    },
    {
      "cell_type": "code",
      "execution_count": null,
      "metadata": {
        "id": "ecWlfra45f6E"
      },
      "outputs": [
        {
          "name": "stdout",
          "output_type": "stream",
          "text": [
            "[10]\n"
          ]
        }
      ],
      "source": [
        "list1 = []\n",
        "if not list1:\n",
        "    list1.append(10)\n",
        "\n",
        "print(list1)"
      ]
    },
    {
      "cell_type": "markdown",
      "metadata": {
        "id": "h9Y3cMUd5h85"
      },
      "source": [
        "3. Створіть рядок зі своїм імʼям латинкою. Напишіть код, який би автоматизовував наступну задачу.\n",
        "\n",
        "Якщо в імені є літера \"а\"\n",
        " або \"i\", Виведіть на екран повідомлення \"A or I is in the name\".\n",
        "\n",
        "\n",
        "\n",
        "Якщо в імені є літери \"o\" та \"n\", Виведіть на екран повідомлення \"O and N is in the name\".\n",
        "\n",
        "Також якщо в імені немає літери \"о\", але є \"n\", Виведіть на екран повідомлення \"Only N is in the name\".\n",
        "\n",
        "В решті випадків виведіть на екран повідомлення \"There is no N in the name, but there might be O\".\n",
        "\n",
        "Зверніть увагу, що, наприклад, для імені \"Antonina\" буде виведено два повідомлення."
      ]
    },
    {
      "cell_type": "code",
      "execution_count": null,
      "metadata": {
        "id": "bUH4LUx35u52"
      },
      "outputs": [
        {
          "name": "stdout",
          "output_type": "stream",
          "text": [
            "A or I is in the name\n",
            "Only N is in the name\n"
          ]
        }
      ],
      "source": [
        "my_name = \"Anna\"\n",
        "\n",
        "if 'a' in my_name.lower() or 'i' in my_name.lower():\n",
        "    print(\"A or I is in the name\")\n",
        "\n",
        "if 'o' in my_name.lower() and 'n' in my_name.lower():\n",
        "    print(\"O and N is in the name\")\n",
        "elif 'n' in my_name.lower() and 'o' not in my_name.lower():\n",
        "    print(\"Only N is in the name\")\n",
        "else:\n",
        "    print(\"There is no N in the name, but there might be O\")"
      ]
    },
    {
      "cell_type": "markdown",
      "metadata": {
        "id": "wPCXJv4354cU"
      },
      "source": [
        "# II. Comprehensions."
      ]
    },
    {
      "cell_type": "markdown",
      "metadata": {
        "id": "jULLW5jN55Pw"
      },
      "source": [
        "4. Створіть список, використовуючи if (не if-else), range та comprehension."
      ]
    },
    {
      "cell_type": "code",
      "execution_count": null,
      "metadata": {
        "id": "mlZalnVC6W3F"
      },
      "outputs": [
        {
          "name": "stdout",
          "output_type": "stream",
          "text": [
            "[0, 2, 2, 4, 4, 6, 6, 8, 8, 10]\n",
            "[2, 4, 6, 8, 10]\n"
          ]
        }
      ],
      "source": [
        "list1 = [num if num % 2 == 0 else num + 1 for num in range(0, 10)]\n",
        "print(list1)\n",
        "\n",
        "list1 = [num for num in range(1, 11) if num % 2 == 0]\n",
        "print(list1)"
      ]
    },
    {
      "cell_type": "markdown",
      "metadata": {
        "id": "LqhEQ4JW6XcC"
      },
      "source": [
        "5. Створіть словник, використовуючи dict comprehension, що містить if else. Коли слід використовувати comprehensions, а коли їх слід уникати?"
      ]
    },
    {
      "cell_type": "code",
      "execution_count": null,
      "metadata": {
        "id": "1yVaFbOs6hta"
      },
      "outputs": [
        {
          "name": "stdout",
          "output_type": "stream",
          "text": [
            "{0: 0, 1: 2, 2: 2, 3: 4, 4: 4, 5: 6, 6: 6, 7: 8, 8: 8, 9: 10}\n"
          ]
        }
      ],
      "source": [
        "dict = {num: num if num % 2 == 0 else num + 1 for num in range(10)}\n",
        "\n",
        "print(dict)"
      ]
    },
    {
      "cell_type": "markdown",
      "metadata": {
        "id": "wbkzNhKq6hzz"
      },
      "source": [
        "Коли використовувати comprehensions:\n",
        "\n",
        "Для створення нових списків, словників або множин за допомогою чіткого і зрозумілого виразу з однієї лінії коду.\n",
        "Коли потрібно застосувати операцію до кожного елементу колекції та отримати нову колекцію.\n",
        "Для підвищення читабельності та зменшення кількості коду порівняно з традиційними циклами.\n",
        "\n",
        "Коли уникати comprehensions:\n",
        "\n",
        "Коли логіка обчислень стає занадто складною або включає вкладені цикли, що ускладнює розуміння коду.\n",
        "Коли потрібно виконати декілька різних операцій у рамках одного циклу, що може зробити вираз comprehension занадто заплутаним.\n",
        "Коли обробка включає великі об'єми даних, що може призвести до великого споживання пам'яті, оскільки comprehensions створюють цілу нову колекцію в пам'яті."
      ]
    },
    {
      "cell_type": "markdown",
      "metadata": {
        "id": "ZlqB8G3G6lHP"
      },
      "source": [
        "6. Створіть список з рядками та запишіть його у змінну. Створіть ще один список на основі попереднього, де кожен рядок буде містити тільки три перших заглавних символи. Наприклад: ['hello', 'i', 'dont', 'care'] -> ['HEL', 'I', 'DON', 'CAR']. Використання comprehensions обовʼязкове."
      ]
    },
    {
      "cell_type": "code",
      "execution_count": null,
      "metadata": {
        "id": "nw6rz0bR60VC"
      },
      "outputs": [
        {
          "data": {
            "text/plain": [
              "['HEL', 'I', 'DON', 'CAR']"
            ]
          },
          "execution_count": 24,
          "metadata": {},
          "output_type": "execute_result"
        }
      ],
      "source": [
        "list1 = ['hello', 'i', 'dont', 'care']\n",
        "result_list1 = [x[:3].upper() for x in list1]\n",
        "\n",
        "result_list1"
      ]
    },
    {
      "cell_type": "markdown",
      "metadata": {
        "id": "Tj573IAH64Fz"
      },
      "source": [
        "# III. Цикли."
      ]
    },
    {
      "cell_type": "markdown",
      "metadata": {
        "id": "tN_33xdE65H5"
      },
      "source": [
        "7. Продемонструйте роботу циклу while. Не можна використовувати True для запуску циклу, щоб уникнути безкінечного циклу!"
      ]
    },
    {
      "cell_type": "code",
      "execution_count": null,
      "metadata": {
        "id": "Kd9FO6yG63P5"
      },
      "outputs": [
        {
          "name": "stdout",
          "output_type": "stream",
          "text": [
            "0\n",
            "1\n",
            "2\n",
            "3\n",
            "4\n",
            "5\n",
            "6\n",
            "7\n",
            "8\n",
            "9\n",
            "10\n"
          ]
        }
      ],
      "source": [
        "i = 0\n",
        "while i <= 10:\n",
        "    print(i)\n",
        "    i += 1"
      ]
    },
    {
      "cell_type": "markdown",
      "metadata": {
        "id": "x2CmfZO-7pW0"
      },
      "source": [
        "8. Напишіть програму, яка виведе на екран непарні числа в діапазоні від 0 до 20 включно."
      ]
    },
    {
      "cell_type": "code",
      "execution_count": null,
      "metadata": {
        "id": "aCSRYA6s7tkF"
      },
      "outputs": [
        {
          "name": "stdout",
          "output_type": "stream",
          "text": [
            "1\n",
            "3\n",
            "5\n",
            "7\n",
            "9\n",
            "11\n",
            "13\n",
            "15\n",
            "17\n",
            "19\n"
          ]
        }
      ],
      "source": [
        "for num in range(21):\n",
        "    if num % 2 == 1:\n",
        "        print(num) "
      ]
    },
    {
      "cell_type": "markdown",
      "metadata": {
        "id": "MDWNocZD7t_B"
      },
      "source": [
        "9. Створіть список з елементами булевого типу або None. Використовуючи цикли, отримайте в результаті список з кортежами, де перший елемент кортежу - індекс(ціле число), а другий елемент - відповідне значення з першого списку.\n",
        "\n",
        "Наприклад, [True, True, None, False] -> [(0, True), (1, True), (2, None), (3, False)]"
      ]
    },
    {
      "cell_type": "code",
      "execution_count": null,
      "metadata": {
        "id": "0EUyjMdp7yfh"
      },
      "outputs": [
        {
          "data": {
            "text/plain": [
              "[(0, True), (1, True), (2, None), (3, False)]"
            ]
          },
          "execution_count": 30,
          "metadata": {},
          "output_type": "execute_result"
        }
      ],
      "source": [
        "list1 = [True, True, None, False]\n",
        "result_list1 = []\n",
        "for a, b in enumerate(list1):\n",
        "    result_list1.append((a, b))\n",
        "\n",
        "result_list1"
      ]
    },
    {
      "cell_type": "markdown",
      "metadata": {
        "id": "-6XUqlcG7zKs"
      },
      "source": [
        "10. Створіть словник, де ключі - назви книжок, а значення - їхня кількість у наявності в Вашій міні-бібліотеці. Бібліотека має містити щонайменше 6 книжок (6 пар значень у словнику) і щонайбільше 10 (пар значень). Використовуючи цикли, оновіть словник (не створюйте новий) так, щоби кількість книг у наявності збільшилося на 5 кожної книги. Наприклад,\n",
        "{'It': 3, 'Fault stars': 10, 'Bible': 17, 'Psychological romance': 4, 'Harry Potter': 13} -> {'It': 8, 'Fault stars': 15, 'Bible': 22, 'Psychological romance': 9, 'Harry Potter': 18}"
      ]
    },
    {
      "cell_type": "code",
      "execution_count": null,
      "metadata": {
        "id": "Ceoj9wwb791q"
      },
      "outputs": [
        {
          "data": {
            "text/plain": [
              "{'Pride and Prejudice': 9,\n",
              " 'Moby Dick': 13,\n",
              " 'The Great Gatsby': 10,\n",
              " 'War and Peace': 7,\n",
              " 'Crime and Punishment': 12,\n",
              " 'The Catcher in the Rye': 15,\n",
              " 'Brave New World': 14}"
            ]
          },
          "execution_count": 37,
          "metadata": {},
          "output_type": "execute_result"
        }
      ],
      "source": [
        "books = {\n",
        "    'Pride and Prejudice': 4,\n",
        "    'Moby Dick': 8,\n",
        "    'The Great Gatsby': 5,\n",
        "    'War and Peace': 2,\n",
        "    'Crime and Punishment': 7,\n",
        "    'The Catcher in the Rye': 10,\n",
        "    'Brave New World': 9\n",
        "}\n",
        "\n",
        "for book in books:\n",
        "  books[book] += 5\n",
        "\n",
        "books"
      ]
    },
    {
      "cell_type": "markdown",
      "metadata": {
        "id": "QLzyJM288AC7"
      },
      "source": [
        "11. Визначте цілочислену змінну n, що належить проміжку від 4 до 10 включно. Використовуючи цикли, виведіть в консоль наступний патерн.\n",
        "\n",
        "#\n",
        "##\n",
        "###\n",
        "####\n",
        "\n",
        "... #*n\n"
      ]
    },
    {
      "cell_type": "code",
      "execution_count": null,
      "metadata": {
        "id": "KOpng87s8Duz"
      },
      "outputs": [
        {
          "name": "stdout",
          "output_type": "stream",
          "text": [
            "#\n",
            "##\n",
            "###\n",
            "####\n",
            "#####\n"
          ]
        }
      ],
      "source": [
        "n = 5\n",
        "\n",
        "for i in range(1, n + 1):\n",
        "        print(\"#\" * i)"
      ]
    },
    {
      "cell_type": "markdown",
      "metadata": {
        "id": "_bd-bqAT8EHn"
      },
      "source": [
        "12. Гра \"Нумо вгадай\".\n",
        "Розробіть просту гру, де користувач має вгадати випадкове число від 1 до 100. Для генерації випадкового числа використовуйте функцію random.randint(a, b) (тут a та b включно). Для отримання числа з консолі використовуйте функцію input(), результат якої обовʼязково явно приведіть до типу int.\n",
        "\n",
        "Підказка: використовуйте цикл while та умови if-else, щоб повідомити користувачу піказки (напр. \"Більше\", \"Менше\") поки користувач не вгадає. По завершенню виведіть кількість спроб, які знадобилися для вгадування."
      ]
    },
    {
      "cell_type": "code",
      "execution_count": 45,
      "metadata": {
        "id": "IK9nnxFK8Hkl"
      },
      "outputs": [
        {
          "name": "stdout",
          "output_type": "stream",
          "text": [
            "10 надто мало. Спробуйте знову ввести більше число\n",
            "10 надто мало. Спробуйте знову ввести більше число\n",
            "50 надто багато. Спробуйте знову ввести менше число\n",
            "45 надто багато. Спробуйте знову ввести менше число\n",
            "40 надто багато. Спробуйте знову ввести менше число\n",
            "35 надто мало. Спробуйте знову ввести більше число\n",
            "35 надто мало. Спробуйте знову ввести більше число\n",
            "36 надто мало. Спробуйте знову ввести більше число\n",
            "Ви вгадали число 37 за 9 спроб\n"
          ]
        }
      ],
      "source": [
        "import random\n",
        "n = 0\n",
        "num_of_attempts = 0\n",
        "num_to_guess = random.randint(1, 100)\n",
        "while num_to_guess != n:\n",
        "    n = int(input(\"Вгадайте число від 1 до 100: \"))\n",
        "    if n > num_to_guess:\n",
        "        print(f\"{n} надто багато. Спробуйте знову ввести менше число\")\n",
        "    elif n < num_to_guess:\n",
        "        print(f\"{n} надто мало. Спробуйте знову ввести більше число\")\n",
        "    num_of_attempts += 1\n",
        "print(f\"Ви вгадали число {num_to_guess} за {num_of_attempts} спроб\")\n",
        "     "
      ]
    },
    {
      "cell_type": "markdown",
      "metadata": {
        "id": "PXoXWb7Z8IGi"
      },
      "source": [
        "# Вітаю! Ви велика(ий) молодець, що впоралась(вся). Похваліть себе та побалуйте чимось приємним. Я Вами пишаюся."
      ]
    }
  ],
  "metadata": {
    "colab": {
      "provenance": []
    },
    "kernelspec": {
      "display_name": "Python 3",
      "name": "python3"
    },
    "language_info": {
      "codemirror_mode": {
        "name": "ipython",
        "version": 3
      },
      "file_extension": ".py",
      "mimetype": "text/x-python",
      "name": "python",
      "nbconvert_exporter": "python",
      "pygments_lexer": "ipython3",
      "version": "3.9.13"
    }
  },
  "nbformat": 4,
  "nbformat_minor": 0
}
