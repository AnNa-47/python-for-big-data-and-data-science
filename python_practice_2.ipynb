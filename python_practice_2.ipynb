{
  "cells": [
    {
      "cell_type": "markdown",
      "metadata": {
        "id": "p9wwt0LZzNvn"
      },
      "source": [
        "# I. Змінні та памʼять."
      ]
    },
    {
      "cell_type": "markdown",
      "metadata": {
        "id": "HTJrrm95xSV9"
      },
      "source": [
        "1. Створити змінні, що посилаються на два цілих числа, що однакові за значенням, де значення належить проміжку від -5 до 256. Перевірте, чи будуть ці змінні рівні тільки за значенням або ж ще будуть посилатися на один і той самий обʼєкт в памʼяті? Наведіть код та дайте текстову відповідь нижче."
      ]
    },
    {
      "cell_type": "code",
      "execution_count": 6,
      "metadata": {
        "id": "TATni2vzayjG"
      },
      "outputs": [
        {
          "name": "stdout",
          "output_type": "stream",
          "text": [
            "True\n",
            "True\n"
          ]
        }
      ],
      "source": [
        "a = 100\n",
        "b = 100\n",
        "\n",
        "print(a == b)\n",
        "print(a is b)"
      ]
    },
    {
      "cell_type": "markdown",
      "metadata": {
        "id": "zfRG_o3WbRdg"
      },
      "source": [
        "Змінні рівні за значенням і посилаються на один і той же об'єкт. "
      ]
    },
    {
      "cell_type": "markdown",
      "metadata": {
        "id": "ISORzt6M3vAt"
      },
      "source": [
        "2. За допомогою якої функції можна перевірити належність змінної до вказаного типу даних (напр. чи змінна True посилається на значення булевого та цілочисленого типу)?"
      ]
    },
    {
      "cell_type": "code",
      "execution_count": 2,
      "metadata": {
        "id": "9vL9CFaMbfyo"
      },
      "outputs": [
        {
          "name": "stdout",
          "output_type": "stream",
          "text": [
            "True True\n"
          ]
        }
      ],
      "source": [
        "print(isinstance(True, bool), isinstance(True, int))"
      ]
    },
    {
      "cell_type": "markdown",
      "metadata": {
        "id": "tRxugKAxwYLw"
      },
      "source": [
        "# II. Цілі числа та числа з рухомою комою"
      ]
    },
    {
      "cell_type": "markdown",
      "metadata": {
        "id": "NLHkgd5Gybc8"
      },
      "source": [
        "3. Створити дві змінні, що посилаються на будь-які ціле число та число з рухомою комою та продемонструвати такі арифметичні операції: додавання, віднімання, ділення, множення, ділення без залишку, ділення по модулю, приведення до ступеню. Всі результати операцій вивести на екран."
      ]
    },
    {
      "cell_type": "code",
      "execution_count": 3,
      "metadata": {
        "id": "nb8u_3pjb2cA"
      },
      "outputs": [
        {
          "name": "stdout",
          "output_type": "stream",
          "text": [
            "Додавання = 9.3\n",
            "Віднімання = 4.7\n",
            "Ділення = 3.0434782608695654\n",
            "Множення = 16.099999999999998\n",
            "Ділення без залишку: = 3.0\n",
            "Ділення по модулю: = 0.10000000000000053\n",
            "Приведення до ступеню: = 87.84670816352883\n"
          ]
        }
      ],
      "source": [
        "integer = 7\n",
        "float = 2.3\n",
        "print(f\"Додавання = {integer + float}\")\n",
        "print(f\"Віднімання = {integer - float}\")\n",
        "print(f\"Ділення = {integer / float}\")\n",
        "print(f\"Множення = {integer * float}\")\n",
        "print(f\"Ділення без залишку: = {integer // float}\")\n",
        "print(f\"Ділення по модулю: = {integer % float}\")\n",
        "print(f\"Приведення до ступеню: = {integer ** float}\")"
      ]
    },
    {
      "cell_type": "markdown",
      "metadata": {
        "id": "1kBClKgPzZnC"
      },
      "source": [
        "4. Використовуючи змінні з вправи 3, продемонструйте механізм явного перетворення типів, де числа з рухомою комою перетворюються на цілі числа. Також визначте змінну, що посилається на значення булевого типу і спробуйте явно привести її до цілого числа."
      ]
    },
    {
      "cell_type": "code",
      "execution_count": 11,
      "metadata": {
        "id": "TbqJbkeUcKsD"
      },
      "outputs": [
        {
          "name": "stdout",
          "output_type": "stream",
          "text": [
            "float is 2.3 (type: <class 'float'>)\n",
            "int_from_float is 2 (type: <class 'int'>)\n",
            "boolean_var is True (type: <class 'bool'>)\n",
            "int_from_bool is 1 (type: <class 'int'>)\n"
          ]
        }
      ],
      "source": [
        "int_from_float = int(float)\n",
        "\n",
        "print(f\"float is {float} (type: {type(float)})\")\n",
        "print(f\"int_from_float is {int_from_float} (type: {type(int_from_float)})\")\n",
        "\n",
        "boolean_var = True\n",
        "\n",
        "int_from_bool = int(boolean_var)\n",
        "\n",
        "print(f\"boolean_var is {boolean_var} (type: {type(boolean_var)})\")\n",
        "print(f\"int_from_bool is {int_from_bool} (type: {type(int_from_bool)})\")"
      ]
    },
    {
      "cell_type": "markdown",
      "metadata": {
        "id": "EVJ7AflwxrZi"
      },
      "source": [
        "# IІІ. Рядки (String)."
      ]
    },
    {
      "cell_type": "markdown",
      "metadata": {
        "id": "_s5ECzz9zE61"
      },
      "source": [
        "5. Створити пустий рядок двома різними способами."
      ]
    },
    {
      "cell_type": "code",
      "execution_count": 15,
      "metadata": {
        "id": "fkZJHu9Scvc-"
      },
      "outputs": [
        {
          "name": "stdout",
          "output_type": "stream",
          "text": [
            "Перший пустий рядок: ''\n",
            "Другий пустий рядок: ''\n"
          ]
        }
      ],
      "source": [
        "emptys1 = \"\"\n",
        "emptys2 = ''\n",
        "\n",
        "print(\"Перший пустий рядок:\", f\"'{emptys1}'\")\n",
        "print(\"Другий пустий рядок:\", f\"'{emptys2}'\")"
      ]
    },
    {
      "cell_type": "markdown",
      "metadata": {
        "id": "4Bdn9J3MzLf_"
      },
      "source": [
        "6. Створити рядок з апострофом. Зробити його сирим. Вивести обидва рядка на екран."
      ]
    },
    {
      "cell_type": "code",
      "execution_count": 16,
      "metadata": {
        "id": "ivji_hsmc0GH"
      },
      "outputs": [
        {
          "name": "stdout",
          "output_type": "stream",
          "text": [
            "Рядок з апострофом: '''\n",
            "Рядок з сирим апострофом: '\\''\n"
          ]
        }
      ],
      "source": [
        "emptys3 = '\\''\n",
        "emptys4 = r'\\''\n",
        "\n",
        "print(\"Рядок з апострофом:\", f\"'{emptys3}'\")\n",
        "print(\"Рядок з сирим апострофом:\", f\"'{emptys4}'\")"
      ]
    },
    {
      "cell_type": "markdown",
      "metadata": {
        "id": "bg_d8wM4z8dS"
      },
      "source": [
        "7. Створити змінну, що буде посилатися на Ваше прізвище латинкою. Створити форматований рядок, який буде мати вигляд \"My surname is ______\", де на місці нижніх підкреслень буде Ваше прізвище зі змінної."
      ]
    },
    {
      "cell_type": "code",
      "execution_count": 17,
      "metadata": {
        "id": "kuxFgpWndACq"
      },
      "outputs": [
        {
          "name": "stdout",
          "output_type": "stream",
          "text": [
            "My surname is Yermolenko\n"
          ]
        }
      ],
      "source": [
        "surname = \"Yermolenko\"\n",
        "formatedStr = f\"My surname is {surname}\"\n",
        "print(formatedStr)"
      ]
    },
    {
      "cell_type": "markdown",
      "metadata": {
        "id": "1Nc6RqvQ0hxU"
      },
      "source": [
        "8. Маючи рядок \"My dog is crazy.\" перетворити його на список [\"my\", \"dog\", \"is\", \"crazy\"]"
      ]
    },
    {
      "cell_type": "code",
      "execution_count": 18,
      "metadata": {
        "id": "w1Ya4RqedUhw"
      },
      "outputs": [
        {
          "name": "stdout",
          "output_type": "stream",
          "text": [
            "['My', 'dog', 'is', 'crazy.']\n"
          ]
        }
      ],
      "source": [
        "line = \"My dog is crazy.\"\n",
        "\n",
        "w_list = line.split()\n",
        "\n",
        "print(w_list)"
      ]
    },
    {
      "cell_type": "markdown",
      "metadata": {
        "id": "GYVqN9uP1D4n"
      },
      "source": [
        "# IV. Робота зі списками."
      ]
    },
    {
      "cell_type": "markdown",
      "metadata": {
        "id": "7-DeDunw2sO-"
      },
      "source": [
        "9. Створити список двома різними за синтаксисом способами. За допомогою вбудованої функції обчисліть довжину одного з них."
      ]
    },
    {
      "cell_type": "code",
      "execution_count": 19,
      "metadata": {
        "id": "zxg06Uuxdyoh"
      },
      "outputs": [
        {
          "name": "stdout",
          "output_type": "stream",
          "text": [
            "Другий список: [0, 1, 2, 3, 4, 5, 6]\n",
            "Довжина другого списку: 7\n"
          ]
        }
      ],
      "source": [
        "list1 = [1, 2, 3, 4, 5]\n",
        "\n",
        "list2 = list(range(7))\n",
        "\n",
        "list_length = len(list2)\n",
        "\n",
        "print(\"Другий список:\", list2)\n",
        "print(f\"Довжина другого списку: {list_length}\")"
      ]
    },
    {
      "cell_type": "markdown",
      "metadata": {
        "id": "8vmGUTjL22gI"
      },
      "source": [
        "10. Створіть два списка та за допомогою спеціального методу додайте другий з них в якості останнього елемента першого."
      ]
    },
    {
      "cell_type": "code",
      "execution_count": 20,
      "metadata": {
        "id": "uHtjWYw7d7hm"
      },
      "outputs": [
        {
          "name": "stdout",
          "output_type": "stream",
          "text": [
            "Об'єднані списки: [1, 2, 3, 4, 5, [6, 7, 8, 9, 10]]\n"
          ]
        }
      ],
      "source": [
        "list1 = [1, 2, 3, 4, 5]\n",
        "list2 = [6, 7, 8, 9, 10]\n",
        "list1.append(list2)\n",
        "print(\"Об'єднані списки:\", list1)"
      ]
    },
    {
      "cell_type": "markdown",
      "metadata": {
        "id": "JC3BkD-67_--"
      },
      "source": [
        "11. Створіть список, де елементами цього списку також є списки. Отримай перший елемент з останнього рядка та виведи значення на екран."
      ]
    },
    {
      "cell_type": "code",
      "execution_count": 23,
      "metadata": {
        "id": "Kz2jZHsGeLlz"
      },
      "outputs": [
        {
          "name": "stdout",
          "output_type": "stream",
          "text": [
            "Перший елемент останнього рядка: 5\n"
          ]
        }
      ],
      "source": [
        "list1 = [ [1, 2], [7, 6], [5, 4, 9] ]\n",
        "\n",
        "print(\"Перший елемент останнього рядка:\", list1[-1][0])"
      ]
    },
    {
      "cell_type": "markdown",
      "metadata": {
        "id": "JA47PKTv8zFK"
      },
      "source": [
        "12. Створіть список з десяти елементів різного типу. Отримайте всі елементи, окрім двох перших та двох останніх та збережіть їх в новій змінній."
      ]
    },
    {
      "cell_type": "code",
      "execution_count": 27,
      "metadata": {
        "id": "_rHdUR-ueP4-"
      },
      "outputs": [
        {
          "name": "stdout",
          "output_type": "stream",
          "text": [
            "Список: ['10', 0, True, 3, 7.9, '12']\n"
          ]
        }
      ],
      "source": [
        "list1 = [1, 2.3, \"10\", 0, True, 3, 7.9, \"12\", False, 5.7 ]\n",
        "slice1 = list1[2:-2]\n",
        "print(\"Список:\", slice1)"
      ]
    },
    {
      "cell_type": "markdown",
      "metadata": {
        "id": "pCjR1dJb1Qbi"
      },
      "source": [
        "# V. Робота з кортежами."
      ]
    },
    {
      "cell_type": "markdown",
      "metadata": {
        "id": "fAZCxAX06R_k"
      },
      "source": [
        "14. Створити кортеж з один елементом."
      ]
    },
    {
      "cell_type": "code",
      "execution_count": 29,
      "metadata": {
        "id": "H7d82WkQev3e"
      },
      "outputs": [
        {
          "name": "stdout",
          "output_type": "stream",
          "text": [
            "(0,)\n"
          ]
        }
      ],
      "source": [
        "tuple1 = (0,)\n",
        "print(tuple1)"
      ]
    },
    {
      "cell_type": "markdown",
      "metadata": {
        "id": "8LCtYcmI6w1M"
      },
      "source": [
        "15. Порівняйте список та кортеж. Назвіть схожості та відмінності, випадки використання."
      ]
    },
    {
      "cell_type": "markdown",
      "metadata": {
        "id": "fUsN1Hnue0C6"
      },
      "source": [
        "Схожості:\n",
        "\n",
        "Обидва типи дозволяють доступ до елементів за допомогою індексації \n",
        "У списки та кортежі можна включати елементи різних типів даних, наприклад числа, рядки та інші об'єкти.\n",
        "Обидва типи можна використовувати в ітераціях, наприклад, за допомогою циклу for.\n",
        "\n",
        "Відмінності:\n",
        "\n",
        "Списки є змінними, їх можна модифікувати після створення (додавати, видаляти або змінювати елементи).\n",
        "Кортежі є незмінними, після створення їхній вміст не може бути змінений.\n",
        "Кортежі займають менше місця в пам’яті, оскільки вони незмінні.\n",
        "Списки вимагають більше пам'яті через додаткові можливості змін та збільшення їхнього розміру.\n",
        "Кортежі працюють швидше за списки, що робить їх вигідним вибором для створення фіксованих даних для читання.\n",
        "Списки можуть бути повільніше, особливо при частих змінах розмірів.\n",
        "\n",
        "Випадки використання:\n",
        "\n",
        "Списки:\n",
        "Ідеально підходять для колекцій, які потребують частого модифікування, наприклад, додавання або видалення елементів. Використовуються там, де потрібна динамічна структура даних.\n",
        "\n",
        "Кортежі:\n",
        "Ідеально підходять для створення колекцій, які не повинні змінюватися, наприклад, фіксовані набори налаштувань або параметри функцій.Часто використовуються для повернення декількох значень з функції.\n"
      ]
    },
    {
      "cell_type": "markdown",
      "metadata": {
        "id": "m0xrwFijAmDD"
      },
      "source": [
        "16. Створіть кортеж з 11ти елементів чисел з рухомою комою та отримайте кожен парний за індексом елемент в зворотньому порядку. Наприклад, маючи (1.2, 2.3, 3.3, 4.3, 5.3, 6.3, 7.3, 8.3, 9.3, 0.3), отримати (0.3, 8.3, 6.3, 4.3, 2.3). Результат збережіть в нову змінну та виведіть на екран."
      ]
    },
    {
      "cell_type": "code",
      "execution_count": 34,
      "metadata": {
        "id": "p-5DAH6XfAGA"
      },
      "outputs": [
        {
          "name": "stdout",
          "output_type": "stream",
          "text": [
            "(0.3, 8.3, 6.3, 4.3, 2.3)\n"
          ]
        }
      ],
      "source": [
        "tuple1 = (1.2, 2.3, 3.3, 4.3, 5.3, 6.3, 7.3, 8.3, 9.3, 0.3)\n",
        "\n",
        "new_tuple = tuple1[::-2]\n",
        "\n",
        "print(new_tuple)"
      ]
    },
    {
      "cell_type": "markdown",
      "metadata": {
        "id": "rW_I9dt3x6cW"
      },
      "source": [
        "# VI. Множини (Set)."
      ]
    },
    {
      "cell_type": "markdown",
      "metadata": {
        "id": "zNjRLHLw1Bgg"
      },
      "source": [
        "17. Створити множину без елементів. Після цого за допомогою методу додайте кілька різних елементів до множини. Чи множини є змінним типом даних?"
      ]
    },
    {
      "cell_type": "code",
      "execution_count": 40,
      "metadata": {
        "id": "KOv7zc2Kfo4N"
      },
      "outputs": [
        {
          "name": "stdout",
          "output_type": "stream",
          "text": [
            "Множина без елементів: set()\n",
            "Нова множина: {8, True, 2.3}\n"
          ]
        }
      ],
      "source": [
        "set1 = set()\n",
        "\n",
        "print(\"Множина без елементів:\", set1)\n",
        "\n",
        "set1.add(2.3)\n",
        "set1.add(8)\n",
        "set1.add(True)\n",
        "\n",
        "print(\"Нова множина:\", set1)"
      ]
    },
    {
      "cell_type": "markdown",
      "metadata": {
        "id": "vxS6dVYiftZQ"
      },
      "source": [
        "Так, множини це змінний тип даних, ми можемо додавати, видаляти та змінювати їх елементи."
      ]
    },
    {
      "cell_type": "markdown",
      "metadata": {
        "id": "gHpT0Zw_1HEF"
      },
      "source": [
        "18. Створити множину, маючи список my_list = [1, 1, 2, 67, 67, 8, 9]. Пояснити, чому \"зникли\" деякі елементи."
      ]
    },
    {
      "cell_type": "code",
      "execution_count": 42,
      "metadata": {
        "id": "qCN4uvJ_fxmu"
      },
      "outputs": [
        {
          "name": "stdout",
          "output_type": "stream",
          "text": [
            "{1, 2, 67, 8, 9}\n"
          ]
        }
      ],
      "source": [
        "my_list = [1, 1, 2, 67, 67, 8, 9]\n",
        "my_set = set(my_list)\n",
        "\n",
        "print(my_set)"
      ]
    },
    {
      "cell_type": "markdown",
      "metadata": {
        "id": "tFNc1e20fyny"
      },
      "source": [
        "Елементи зникли через те що сет не може містити дублікати."
      ]
    },
    {
      "cell_type": "markdown",
      "metadata": {
        "id": "SRMkGizS1UwY"
      },
      "source": [
        "19. Створіть дві множини. Продемонстуйте над ними операції: обʼєднання, різниці, пересічі та симетричної різниці. Використовуйте методи, що не змінюють множини, а створюють нові."
      ]
    },
    {
      "cell_type": "code",
      "execution_count": 44,
      "metadata": {
        "id": "h0T-VuDnf3Ri"
      },
      "outputs": [
        {
          "name": "stdout",
          "output_type": "stream",
          "text": [
            "Об'єднання: {1, 2, 3, 4, 5, 6, 7, 8, 9}\n",
            "Різниця: {1, 2, 3, 4}\n",
            "Пересіч: {5}\n",
            "Симетрична різниця: {1, 2, 3, 4, 6, 7, 8, 9}\n"
          ]
        }
      ],
      "source": [
        "set1 = {1, 2, 3, 4, 5}\n",
        "set2 = {5, 6, 7, 8, 9}\n",
        "\n",
        "union_set = set1.union(set2)\n",
        "print(\"Об'єднання:\", union_set)\n",
        "\n",
        "difference_set = set1.difference(set2)\n",
        "print(\"Різниця:\", difference_set)\n",
        "\n",
        "intersection_set = set1.intersection(set2)\n",
        "print(\"Пересіч:\", intersection_set)\n",
        "\n",
        "symmetric_difference_set = set1.symmetric_difference(set2)\n",
        "print(\"Симетрична різниця:\", symmetric_difference_set)\n"
      ]
    },
    {
      "cell_type": "markdown",
      "metadata": {
        "id": "kWc8gkzTx7Ea"
      },
      "source": [
        "# VII. Словники (Dictionary)."
      ]
    },
    {
      "cell_type": "markdown",
      "metadata": {
        "id": "i5FLwj-B2ybQ"
      },
      "source": [
        "20. Створіть пустий словник. До нього додайте чотири пари елементів такі, щоб їхні ключі були різних типів. Чи може список бути ключем? Чому?"
      ]
    },
    {
      "cell_type": "code",
      "execution_count": 46,
      "metadata": {
        "id": "hxgv3BzrgLAV"
      },
      "outputs": [
        {
          "name": "stdout",
          "output_type": "stream",
          "text": [
            "{0: 3.0, (7, 9): 4.2, 2.3: 6.8, '1': 5.1}\n"
          ]
        }
      ],
      "source": [
        "dict = {}\n",
        "\n",
        "dict[0] = 3.0\n",
        "dict[(7,9)] = 4.2\n",
        "dict[2.3] = 6.8\n",
        "dict[\"1\"] = 5.1\n",
        "print(dict)"
      ]
    },
    {
      "cell_type": "markdown",
      "metadata": {
        "id": "zwa7UVN-gR3m"
      },
      "source": [
        "Список не може бути ключем, тому що списки є змінними об'єктами. Ключі у словнику мають бути незмінними, щоб забезпечити сталість їхнього хеш-коду, який використовується для ідентифікації та пошуку в словнику. Змінні об'єкти, як списки, можуть порушити цю стабільність, що робить їх непридатними для використання як ключі."
      ]
    },
    {
      "cell_type": "markdown",
      "metadata": {
        "id": "WM_pMlJsgoNf"
      },
      "source": [
        "21. Створіть словник, де значенням в одній з пар теж буде словник, який теж має вкладений словник. Виведіть на екран значення, що міститься в словнику, що знаходиться на найнижчому рівні ієрархії вкладеності (найбільш внутрішній)."
      ]
    },
    {
      "cell_type": "code",
      "execution_count": 47,
      "metadata": {
        "id": "60dlP7IHhAy4"
      },
      "outputs": [
        {
          "data": {
            "text/plain": [
              "'value'"
            ]
          },
          "execution_count": 47,
          "metadata": {},
          "output_type": "execute_result"
        }
      ],
      "source": [
        "dict0 = {\n",
        "    \"dict1\": {\n",
        "        \"dict2\": {\n",
        "            'key': 'value'\n",
        "        }\n",
        "    },\n",
        "    10: 1\n",
        "}\n",
        "\n",
        "dict0['dict1']['dict2']['key']"
      ]
    },
    {
      "cell_type": "markdown",
      "metadata": {
        "id": "xOZP0hkx6cCr"
      },
      "source": [
        "# Вітаю! Ви велика(ий) молодець, що впоралась(вся). Похваліть себе та побалуйте чимось приємним. Я Вами пишаюся."
      ]
    }
  ],
  "metadata": {
    "colab": {
      "provenance": []
    },
    "kernelspec": {
      "display_name": "Python 3",
      "name": "python3"
    },
    "language_info": {
      "codemirror_mode": {
        "name": "ipython",
        "version": 3
      },
      "file_extension": ".py",
      "mimetype": "text/x-python",
      "name": "python",
      "nbconvert_exporter": "python",
      "pygments_lexer": "ipython3",
      "version": "3.9.13"
    }
  },
  "nbformat": 4,
  "nbformat_minor": 0
}
