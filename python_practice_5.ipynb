{
  "cells": [
    {
      "cell_type": "markdown",
      "metadata": {
        "id": "5qV_sehzFCTp"
      },
      "source": [
        "# I. OOP"
      ]
    },
    {
      "cell_type": "markdown",
      "metadata": {
        "id": "tx_U_hOALyfg"
      },
      "source": [
        "1. (6б). Створіть клас Animal, додайте три атрибути, один з яких має значення за замовчуванням та два методи на свій розсуд."
      ]
    },
    {
      "cell_type": "code",
      "execution_count": 16,
      "metadata": {
        "id": "-Vf895KaL88N"
      },
      "outputs": [],
      "source": [
        "class Animal:\n",
        "\n",
        "    def __init__(self, name, species, age=0):\n",
        "        self.name = name\n",
        "        self.species = species\n",
        "        self.age = age\n",
        "\n",
        "    def say(self, phrase):\n",
        "      print(f\"{self.name} says: '{phrase}'.\")\n",
        "\n",
        "    def introduce(self):\n",
        "      print(f\"I am {self.name}, a cool {self.species} who is {self.age} years old.\")"
      ]
    },
    {
      "cell_type": "markdown",
      "metadata": {
        "id": "X_UlOMB0L93w"
      },
      "source": [
        "2. (2б). Створіть два обʼєкти цього класу, де один з обʼєктів створюється із дефолтним значенням атрибуту. На одному обʼєкті отримайте значення його атрибуту, а на іншому викличте один з його методів."
      ]
    },
    {
      "cell_type": "code",
      "execution_count": 25,
      "metadata": {
        "id": "7gBu0ESOMCpG"
      },
      "outputs": [
        {
          "name": "stdout",
          "output_type": "stream",
          "text": [
            "I am Reacher, a cool dog who is 5 years old.\n",
            "Parrots's age: 0\n"
          ]
        }
      ],
      "source": [
        "dog = Animal(\"Reacher\", \"dog\", 5)\n",
        "dog.introduce()\n",
        "\n",
        "parrot = Animal(\"Silver\", \"parrot\")\n",
        "print(\"Parrots's age:\", parrot.age)"
      ]
    },
    {
      "cell_type": "markdown",
      "metadata": {
        "id": "HoqSCZt1MHn5"
      },
      "source": [
        "3. (5б). Створіть клас, де атрибути мають різні рівні доступу. Спробуйте отримати їхні значення та опишіть результати."
      ]
    },
    {
      "cell_type": "code",
      "execution_count": 51,
      "metadata": {
        "id": "r9b3vJxBMSPV"
      },
      "outputs": [
        {
          "name": "stdout",
          "output_type": "stream",
          "text": [
            "Public attribute: public level\n",
            "Protected attribute: protected level\n",
            "Unable to access the private attribute directly. It is not accessible from the outside of the class in direct way.\n",
            "Protected attribute: private level\n"
          ]
        }
      ],
      "source": [
        "class AccessLevels:\n",
        "\n",
        "    def __init__(self):\n",
        "        self.public_attribute = \"public level\"\n",
        "        self._protected_attribute = \"protected level\"\n",
        "        self.__private_attribute = \"private level\"\n",
        "\n",
        "\n",
        "obj = AccessLevels()\n",
        "\n",
        "\n",
        "print(\"Public attribute:\", obj.public_attribute)\n",
        "print(\"Protected attribute:\", obj._protected_attribute)\n",
        "\n",
        "try:\n",
        "    print(\"Private attribute:\", obj.__private_attribute)\n",
        "except AttributeError:\n",
        "    print(\"Unable to access the private attribute directly. It is not accessible from the outside of the class in direct way.\")\n",
        "\n",
        "\n",
        "print(\"Protected attribute:\", obj._AccessLevels__private_attribute)"
      ]
    },
    {
      "cell_type": "markdown",
      "metadata": {
        "id": "5op2m2vgMSkZ"
      },
      "source": [
        "4. (7б). Як ви розумієте термін self? Для чого використовується метод __init __?"
      ]
    },
    {
      "cell_type": "markdown",
      "metadata": {
        "id": "DyiPqNRvMasx"
      },
      "source": [
        "self використовують у методах класу для посилання на сам об'єкт класу, що дозволяє мати доступати до атрибутів і методів цього екземпляра класу. \n",
        "\n",
        "Метод __init __  називають конструктором. Цей метод викликається автоматично, коли створюється новий екземпляр класу. Він використовується для ініціалізації стану нового об'єкта, надаючи йому початкові значення атрибутів або виконуючи будь-яку іншу необхідну підготовчу роботу перед використанням об'єкта."
      ]
    },
    {
      "cell_type": "markdown",
      "metadata": {
        "id": "-6X8EGfjMd2y"
      },
      "source": [
        "5. (9б). Створіть клас Фігура без атрибутів, з методом get_area для отримання площі фігури, що повертає 0 та __add __, який приймає self та other в якості аргументів, а повертає суму площин фігур self та other."
      ]
    },
    {
      "cell_type": "code",
      "execution_count": 57,
      "metadata": {
        "id": "4rvO_wYUMaEr"
      },
      "outputs": [],
      "source": [
        "class Figure:\n",
        "    def get_area(self):\n",
        "        return 0\n",
        "    \n",
        "    def __add__(self, other):\n",
        "        return self.get_area() + other.get_area()"
      ]
    },
    {
      "cell_type": "markdown",
      "metadata": {
        "id": "SFcKnnv5Mo_z"
      },
      "source": [
        "6. (11б). Створіть 2 дочірніх класи від Фігури: Трикутник та Коло, які мають атрибути, необхідні для розрахунку площин. Визначте метод get_area в кожному з них так, щоби вони розраховували площу в залежності від формули для кожного типу фігури. Створіть обʼєкт класу Трикутник та обʼєкт класу Коло. Виконайте операцію суми за допомогою оператора + між ними."
      ]
    },
    {
      "cell_type": "code",
      "execution_count": 76,
      "metadata": {
        "id": "H3GVNr69Muf3"
      },
      "outputs": [
        {
          "name": "stdout",
          "output_type": "stream",
          "text": [
            "Total area: 72.76548245743669\n"
          ]
        }
      ],
      "source": [
        "import math\n",
        "\n",
        "class Triangle(Figure):\n",
        "    def __init__(self, base, height):\n",
        "        self.base = base\n",
        "        self.height = height\n",
        "\n",
        "    def get_area(self):\n",
        "        return 0.5 * self.base * self.height\n",
        "\n",
        "class Circle(Figure):\n",
        "    def __init__(self, radius):\n",
        "        self.radius = radius\n",
        "        \n",
        "    def get_area(self):\n",
        "        return math.pi * (self.radius ** 2)\n",
        "    \n",
        "triangle = Triangle(5, 9)\n",
        "circle = Circle(4)\n",
        "\n",
        "print(f\"Total area: {triangle + circle}\")"
      ]
    },
    {
      "cell_type": "markdown",
      "metadata": {
        "id": "HCvR206YMvLK"
      },
      "source": [
        "7. (3б). Продемонструйте різницю між isinstance та issubclass."
      ]
    },
    {
      "cell_type": "code",
      "execution_count": 107,
      "metadata": {
        "id": "L_V1bBvDM0GN"
      },
      "outputs": [
        {
          "name": "stdout",
          "output_type": "stream",
          "text": [
            "Is obj an instance of ChildClass? True\n",
            "Is obj an instance of ParentClass? True\n",
            "Is obj an instance of object? True\n",
            "Is ChildClass a subclass of ParentClass? True\n",
            "Is ParentClass a subclass of object? True\n",
            "Is int a subclass of object? True\n"
          ]
        }
      ],
      "source": [
        "class ParentClass:\n",
        "    pass\n",
        "\n",
        "class ChildClass(ParentClass):\n",
        "    pass\n",
        "\n",
        "obj = ChildClass()\n",
        "\n",
        "print(\"Is obj an instance of ChildClass?\", isinstance(obj, ChildClass))\n",
        "\n",
        "print(\"Is obj an instance of ParentClass?\", isinstance(obj, ParentClass))\n",
        "\n",
        "print(\"Is obj an instance of object?\", isinstance(obj, object))\n",
        "\n",
        "print(\"Is ChildClass a subclass of ParentClass?\", issubclass(ChildClass, ParentClass))\n",
        "\n",
        "print(\"Is ParentClass a subclass of object?\", issubclass(ParentClass, object))\n",
        "\n",
        "print(\"Is int a subclass of object?\", issubclass(int, object))"
      ]
    },
    {
      "cell_type": "markdown",
      "metadata": {
        "id": "jjsaBZ-iM0Qq"
      },
      "source": [
        "8. (13б). Створіть клас BankAccount з приватними атрибутами balance та account_number. Реалізуйте методи поповнення та зняття коштів, забезпечивши належну інкапсуляцію. Підказка: використовуйте декоратори property та setter."
      ]
    },
    {
      "cell_type": "code",
      "execution_count": 118,
      "metadata": {
        "id": "xCvZ7lh8M7YA"
      },
      "outputs": [
        {
          "name": "stdout",
          "output_type": "stream",
          "text": [
            "New balance must be positive\n",
            "Before deposit: 100\n",
            "After 'deposit' of 1000: 1100\n",
            "After 'withdraw' of 500: 600\n"
          ]
        }
      ],
      "source": [
        "class BankAccount:\n",
        "    def __init__(self, account_number, balance):\n",
        "        self.__account_number = account_number\n",
        "        self.__balance = balance\n",
        "    \n",
        "    @property\n",
        "    def balance(self):\n",
        "        return self.__balance\n",
        "\n",
        "    @balance.setter\n",
        "    def balance(self, new_balance):\n",
        "        if new_balance >= 0:\n",
        "            self.__balance = new_balance\n",
        "        else:\n",
        "            print(\"New balance must be positive\")\n",
        "    \n",
        "    def deposit(self, amount):\n",
        "        if amount > 0:\n",
        "            self.__balance += amount\n",
        "        else:\n",
        "            print(\"Amount must be positive\")\n",
        "    \n",
        "    def withdraw(self, amount):\n",
        "        if 0 < amount <= self.__balance:\n",
        "            self.__balance -= amount\n",
        "        else:\n",
        "            print(\"Amount must be positive and less than balance\")\n",
        "            \n",
        "account = BankAccount(1, 100)\n",
        "account.balance = -100 # this line prints error\n",
        "print(f\"Before deposit: {account.balance}\")\n",
        "account.deposit(1000)\n",
        "print(f\"After 'deposit' of 1000: {account.balance}\")\n",
        "account.withdraw(500)\n",
        "print(f\"After 'withdraw' of 500: {account.balance}\")"
      ]
    },
    {
      "cell_type": "markdown",
      "metadata": {
        "id": "tIzL2SJTM8ft"
      },
      "source": [
        "9. (11б). Створіть клас Library, який містить список об'єктів типу Book. Реалізуйте методи для додавання книги, видалення книги та відображення списку книг."
      ]
    },
    {
      "cell_type": "code",
      "execution_count": 127,
      "metadata": {
        "id": "HWxfJKLtNAUZ"
      },
      "outputs": [
        {
          "name": "stdout",
          "output_type": "stream",
          "text": [
            "Books in the library:\n",
            "- The Great Gatsby by F. Scott Fitzgerald\n",
            "- To Kill a Mockingbird by Harper Lee\n",
            "\n",
            "After removing 'The Great Gatsby' book:\n",
            "Books in the library:\n",
            "- To Kill a Mockingbird by Harper Lee\n"
          ]
        }
      ],
      "source": [
        "class Book:\n",
        "    def __init__(self, title, author):\n",
        "        self.title = title\n",
        "        self.author = author\n",
        "    \n",
        "    def __str__(self):\n",
        "        return f\"{self.title} by {self.author}\"\n",
        "    \n",
        "class Library:\n",
        "    def __init__(self):\n",
        "        self.books = []\n",
        "        \n",
        "    def add_book(self, book):\n",
        "        self.books.append(book)\n",
        "        \n",
        "    def remove_book(self, book):\n",
        "        self.books.remove(book)\n",
        "    \n",
        "    def display_books(self):\n",
        "        print(\"Books in the library:\")\n",
        "        for book in self.books:\n",
        "            print(f\"- {book}\")\n",
        "\n",
        "library = Library()\n",
        "\n",
        "book1 = Book(\"The Great Gatsby\", \"F. Scott Fitzgerald\")\n",
        "book2 = Book(\"To Kill a Mockingbird\", \"Harper Lee\")\n",
        "library.add_book(book1)\n",
        "library.add_book(book2)\n",
        "\n",
        "library.display_books() \n",
        "library.remove_book(book1)\n",
        "\n",
        "print(\"\\nAfter removing 'The Great Gatsby' book:\")\n",
        "library.display_books()\n",
        "     "
      ]
    },
    {
      "cell_type": "markdown",
      "metadata": {
        "id": "lmV8pAwwNIqu"
      },
      "source": [
        "10. (13б). Створіть клас Person з атрибутами name та age. Створіть ще один клас Employee з такими атрибутами, як department та salary. Створіть клас Manager, який успадковує обидва класи Person та Employee. Продемонструйте використання множинної спадковості, створивши обʼєкт класу Manager та отримавши mro для цього класу."
      ]
    },
    {
      "cell_type": "code",
      "execution_count": 139,
      "metadata": {
        "id": "R49grKlWNPeN"
      },
      "outputs": [
        {
          "name": "stdout",
          "output_type": "stream",
          "text": [
            "Manager: Jack Reacher\n",
            "Age: 40\n",
            "Department: Marketing\n",
            "Salary: 50000\n",
            "Method Resolution Order (MRO): [<class '__main__.Manager'>, <class '__main__.Person'>, <class '__main__.Employee'>, <class 'object'>]\n"
          ]
        }
      ],
      "source": [
        "class Person:\n",
        "\n",
        "    def __init__(self, name, age):\n",
        "        self.name = name\n",
        "        self.age = age\n",
        "\n",
        "\n",
        "class Employee:\n",
        "\n",
        "    def __init__(self, department, salary):\n",
        "        self.department = department\n",
        "        self.salary = salary\n",
        "\n",
        "\n",
        "class Manager(Person, Employee):\n",
        "\n",
        "    def __init__(self, name, age, department, salary):\n",
        "        Person.__init__(self, name, age)\n",
        "        Employee.__init__(self, department, salary)\n",
        "\n",
        "\n",
        "manager = Manager(\"Jack Reacher\", 40, \"Marketing\", 50000)\n",
        "print(\"Manager:\", manager.name)\n",
        "print(\"Age:\", manager.age)\n",
        "print(\"Department:\", manager.department)\n",
        "print(\"Salary:\", manager.salary)\n",
        "\n",
        "print(\"Method Resolution Order (MRO):\", Manager.mro())"
      ]
    },
    {
      "cell_type": "markdown",
      "metadata": {
        "id": "dIJyUiNBFG8G"
      },
      "source": [
        "# II. Iterator"
      ]
    },
    {
      "cell_type": "markdown",
      "metadata": {
        "id": "13vsm0NyKIzL"
      },
      "source": [
        "11. (4б). Визначте рядок(str) з 4ма різними за значенням символами. Створіть ітератор на основі цього рядка. Викличте 5 разів функцію next на ітераторі, 4ри перших з них огорніть у ф-цію print()."
      ]
    },
    {
      "cell_type": "code",
      "execution_count": 159,
      "metadata": {
        "id": "81ntabAkKuz-"
      },
      "outputs": [
        {
          "name": "stdout",
          "output_type": "stream",
          "text": [
            "a\n",
            "b\n",
            "c\n",
            "d\n",
            "End of iter.\n"
          ]
        }
      ],
      "source": [
        "four_character_string = \"abcd\"\n",
        "\n",
        "str_iterator = iter(four_character_string)\n",
        "\n",
        "for i in range(5):\n",
        "    try:\n",
        "        if i < 4:\n",
        "            print(next(str_iterator))\n",
        "        else:\n",
        "            next(str_iterator)\n",
        "    except StopIteration:\n",
        "        print(\"End of iter.\")\n",
        "     \n",
        "        "
      ]
    },
    {
      "cell_type": "markdown",
      "metadata": {
        "id": "aekWHGXOLRsO"
      },
      "source": [
        "А що якщо викликати цю ж функцію на рядку?"
      ]
    },
    {
      "cell_type": "code",
      "execution_count": 160,
      "metadata": {
        "id": "mxATGsErLV1i"
      },
      "outputs": [
        {
          "ename": "AttributeError",
          "evalue": "'str' object has no attribute 'next'",
          "output_type": "error",
          "traceback": [
            "\u001b[1;31m---------------------------------------------------------------------------\u001b[0m",
            "\u001b[1;31mAttributeError\u001b[0m                            Traceback (most recent call last)",
            "Cell \u001b[1;32mIn[160], line 1\u001b[0m\n\u001b[1;32m----> 1\u001b[0m \u001b[43mfour_character_string\u001b[49m\u001b[38;5;241;43m.\u001b[39;49m\u001b[43mnext\u001b[49m()\n",
            "\u001b[1;31mAttributeError\u001b[0m: 'str' object has no attribute 'next'"
          ]
        }
      ],
      "source": [
        "four_character_string.next()\n"
      ]
    },
    {
      "cell_type": "markdown",
      "metadata": {
        "id": "XwtMEopwJ4pH"
      },
      "source": [
        " 12. (5б). Опишіть своїми словами в одному реченні, як ви розумієте різницю між ітерабельними обʼєктами та ітераторами (можна на прикладі)."
      ]
    },
    {
      "cell_type": "markdown",
      "metadata": {
        "id": "-sHrODc3KFn8"
      },
      "source": [
        "Ітерабельні об'єкти — це колекції, які можна перебирати (наприклад, списки або рядки), тоді як ітератори — це спеціальні об'єкти, які зберігають стан перебору і видають наступний елемент ітерабельного об'єкта за кожним викликом методу next()."
      ]
    },
    {
      "cell_type": "markdown",
      "metadata": {
        "id": "E9qJWmNbK8Gl"
      },
      "source": [
        "13. (11б). Створіть клас, що має визначений Iterator Protocol та при кожному виклику next повертає літери англійської абетки, поки вони не вичерпаються."
      ]
    },
    {
      "cell_type": "code",
      "execution_count": 167,
      "metadata": {
        "id": "cqx-g_RsLo6I"
      },
      "outputs": [
        {
          "name": "stdout",
          "output_type": "stream",
          "text": [
            "A\n",
            "B\n",
            "C\n",
            "D\n",
            "E\n",
            "F\n",
            "G\n",
            "H\n",
            "I\n",
            "J\n",
            "K\n",
            "L\n",
            "M\n",
            "N\n",
            "O\n",
            "P\n",
            "Q\n",
            "R\n",
            "S\n",
            "T\n",
            "U\n",
            "V\n",
            "W\n",
            "X\n",
            "Y\n",
            "Z\n"
          ]
        }
      ],
      "source": [
        "class EnglishAlphabet:\n",
        "    def __init__(self):\n",
        "        self.__alphabet = 'ABCDEFGHIJKLMNOPQRSTUVWXYZ'\n",
        "\n",
        "    def __iter__(self):\n",
        "        self.__current = 0\n",
        "        return self\n",
        "\n",
        "    def __next__(self):\n",
        "        if self.__current < len(self.__alphabet):\n",
        "            result = self.__alphabet[self.__current]\n",
        "            self.__current += 1\n",
        "            return result\n",
        "        raise StopIteration\n",
        "     \n",
        "alphabet = EnglishAlphabet()\n",
        "\n",
        "for a in alphabet:\n",
        "    print(a)"
      ]
    },
    {
      "cell_type": "markdown",
      "metadata": {
        "id": "Z3E3S_s1Fv7-"
      },
      "source": [
        "# Вітаю! Ви велика(ий) молодець, що впоралась(вся). Похваліть себе та побалуйте чимось приємним. Я Вами пишаюся."
      ]
    }
  ],
  "metadata": {
    "colab": {
      "provenance": []
    },
    "kernelspec": {
      "display_name": "Python 3",
      "name": "python3"
    },
    "language_info": {
      "codemirror_mode": {
        "name": "ipython",
        "version": 3
      },
      "file_extension": ".py",
      "mimetype": "text/x-python",
      "name": "python",
      "nbconvert_exporter": "python",
      "pygments_lexer": "ipython3",
      "version": "3.9.13"
    }
  },
  "nbformat": 4,
  "nbformat_minor": 0
}
